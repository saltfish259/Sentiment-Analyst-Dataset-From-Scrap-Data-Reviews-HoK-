{
  "nbformat": 4,
  "nbformat_minor": 0,
  "metadata": {
    "colab": {
      "provenance": [],
      "authorship_tag": "ABX9TyMi49cRpfWX7zPJjlGLaVEY",
      "include_colab_link": true
    },
    "kernelspec": {
      "name": "python3",
      "display_name": "Python 3"
    },
    "language_info": {
      "name": "python"
    }
  },
  "cells": [
    {
      "cell_type": "markdown",
      "metadata": {
        "id": "view-in-github",
        "colab_type": "text"
      },
      "source": [
        "<a href=\"https://colab.research.google.com/github/saltfish259/Sentiment-Analyst-Dataset-From-Scrap-Data-Reviews-HoK-/blob/main/Scrapping%20Data%20From%20Google%20Play%20Store.ipynb\" target=\"_parent\"><img src=\"https://colab.research.google.com/assets/colab-badge.svg\" alt=\"Open In Colab\"/></a>"
      ]
    },
    {
      "cell_type": "markdown",
      "source": [
        "## Scrapping Play Store"
      ],
      "metadata": {
        "id": "AtuYM1pPrzl_"
      }
    },
    {
      "cell_type": "markdown",
      "source": [
        "1. `!pip install google-play-scraper`\n",
        "Perintah untuk menginstall google play scraper"
      ],
      "metadata": {
        "id": "JLwNc7fYYGSL"
      }
    },
    {
      "cell_type": "code",
      "source": [
        "!pip install google-play-scraper"
      ],
      "metadata": {
        "colab": {
          "base_uri": "https://localhost:8080/"
        },
        "id": "vl_8tebHr6gM",
        "outputId": "c21061cc-8a02-46ed-8349-0309c1cb3d44"
      },
      "execution_count": null,
      "outputs": [
        {
          "output_type": "stream",
          "name": "stdout",
          "text": [
            "Collecting google-play-scraper\n",
            "  Downloading google_play_scraper-1.2.7-py3-none-any.whl.metadata (50 kB)\n",
            "\u001b[?25l     \u001b[90m━━━━━━━━━━━━━━━━━━━━━━━━━━━━━━━━━━━━━━━━\u001b[0m \u001b[32m0.0/50.2 kB\u001b[0m \u001b[31m?\u001b[0m eta \u001b[36m-:--:--\u001b[0m\r\u001b[2K     \u001b[90m━━━━━━━━━━━━━━━━━━━━━━━━━━━━━━━━━━━━━━━━\u001b[0m \u001b[32m50.2/50.2 kB\u001b[0m \u001b[31m2.8 MB/s\u001b[0m eta \u001b[36m0:00:00\u001b[0m\n",
            "\u001b[?25hDownloading google_play_scraper-1.2.7-py3-none-any.whl (28 kB)\n",
            "Installing collected packages: google-play-scraper\n",
            "Successfully installed google-play-scraper-1.2.7\n"
          ]
        }
      ]
    },
    {
      "cell_type": "markdown",
      "source": [
        "## Library"
      ],
      "metadata": {
        "id": "t_735TDNYSr6"
      }
    },
    {
      "cell_type": "markdown",
      "source": [
        "1. `import pandas as pd`\n",
        "- Mengimpor library Pandas, digunakan untuk manipulasi data dalam bentuk tabel seperti DataFrame\n",
        "2. `from google_play_scraper import app, reviews`\n",
        "- Mengimpor fungsi `app` dan `reviews` dari library `google-play-scraper`.\n",
        "- `app` digunakan untuk mengambil detail aplikasi dari Google Play Store.\n",
        "- `review` digunakan untuk mengumpulkan ulasan pengguna aplikasi"
      ],
      "metadata": {
        "id": "e0OVExjRYadh"
      }
    },
    {
      "cell_type": "code",
      "source": [
        "import pandas as pd\n",
        "from google_play_scraper import app, reviews"
      ],
      "metadata": {
        "id": "Vb7huVA-r2Nl"
      },
      "execution_count": null,
      "outputs": []
    },
    {
      "cell_type": "markdown",
      "source": [
        "# Scrap Data"
      ],
      "metadata": {
        "id": "etMojCkDY8bR"
      }
    },
    {
      "cell_type": "markdown",
      "source": [
        "Kode ini mempersiapkan ID aplikasi dan jumlah ulasan yang akan di ambil.\n",
        "\n",
        "1. `app_id = 'com.levelinfinite.sgameGlobal'`\n",
        "- Menyimpan ID aplikasi (dalam hal ini, ID untuk game \"Honor Of Kings\") dari Google Play Store dalam variabel `app_id`.\n",
        "2. `num_reviews = 10000 `\n",
        "- menentukan jumlah ulasan yang ingin di ambil, dalam hal ini sebanyak 10.000 ulasan dan menyimpannya dalam variabel `num_reviews`."
      ],
      "metadata": {
        "id": "KWrqPmt8ZAVp"
      }
    },
    {
      "cell_type": "code",
      "source": [
        "app_id = 'com.levelinfinite.sgameGlobal'\n",
        "num_reviews = 10000"
      ],
      "metadata": {
        "id": "-T_xoCe1r3-N"
      },
      "execution_count": null,
      "outputs": []
    },
    {
      "cell_type": "markdown",
      "source": [
        "1. `app_info = app(app_id)`\n",
        "- Memanggil fungsi `app` dengan parameter `app_id` untuk mengambil informasi detail aplikasi berdasarkan ID aplikasi yang disimpan. Hasilnya disimpan dalam variabel `app_info`, yang berisi data seperti nama aplikasi, deskripsi, pengembang, rating, jumlah unduhan, dan informasi relevan lainnya dari Google Play Store."
      ],
      "metadata": {
        "id": "dHsC3FQ5ZzLp"
      }
    },
    {
      "cell_type": "code",
      "source": [
        "app_info = app(app_id)"
      ],
      "metadata": {
        "id": "TNvY3NZJr76d"
      },
      "execution_count": null,
      "outputs": []
    },
    {
      "cell_type": "markdown",
      "source": [
        "kode ini mengambil ulasan pengguna aplikasi sebanyak 10.000 dari Amerika Serikat dalam bahasa inggris dan menyimpan data ulasan serta token untuk pengambilan lebih lanjut.\n",
        "\n",
        "1. `result, continuation_token = reviews`\n",
        "- Memanggil fungsi `reviews` untuk mengambil ulasan aplikasi dan menyimpan hasilnya dalam variabel `result`. `continue_token` menyimpan token untuk melanjutkan pengambilan ulasan jika diperlukan.\n",
        "2. `app_id`\n",
        "- Id aplikasi akan diambil ulasannya, menggunakan variabel `app_id` yang telah di definisikan.\n",
        "3. `lang='en'`\n",
        "- Menentukan ulasan dari negara mana yang diambil, dalam hal ini Amerika Serikat.\n",
        "4. `count=num_reviews`\n",
        "- Menentukan jumlah ulasan yang diambil, yaitu sebanyak 10.000 ulasan sesuai variabel `num_reviews`."
      ],
      "metadata": {
        "id": "ksmRdzQhaK6g"
      }
    },
    {
      "cell_type": "code",
      "source": [
        "result, continuation_token = reviews(\n",
        "    app_id,\n",
        "    lang='en',\n",
        "    country='us',\n",
        "    count=num_reviews\n",
        ")"
      ],
      "metadata": {
        "id": "QP_65d0Zr9it"
      },
      "execution_count": null,
      "outputs": []
    },
    {
      "cell_type": "markdown",
      "source": [
        "Kode ini mengekstrak isi ulasan dari hasil yang diperoleh dan menyimpannya dalam list `data` sebagai dictionary dengan key `'Review'`.\n",
        "1. `data = []`\n",
        "- Membuat list kosong bernama `data` untuk menyimpan hasil ulasan yang akan di olah.\n",
        "2. `for review in result`\n",
        "- loop atau perulangan untuk setiap ulasan dalam `result`, yang berisi data ulasan yang diambil sebelumnya.\n",
        "3. `data.append({ 'Review': review['content'], })`\n",
        "- Untuk setiap ulasan, menambahkan dictionary baru kedalam list data, dengan key `'Review'` berisi konten ulasan dari `review['content']`."
      ],
      "metadata": {
        "id": "mC__CueZa-0J"
      }
    },
    {
      "cell_type": "code",
      "source": [
        "data = []\n",
        "for review in result:\n",
        "    data.append({\n",
        "        'Review': review['content'],\n",
        "    })"
      ],
      "metadata": {
        "id": "ej2wox7usAV2"
      },
      "execution_count": null,
      "outputs": []
    },
    {
      "cell_type": "markdown",
      "source": [
        "Kode ini menyimpan data ulasan yang telah diekstrak dalam format CSV untuk digunakan.\n",
        "1. `df = pd.DataFrame(data)`\n",
        "- Mengubah list `data` yang berisi ulasan menjadi **DataFrame** menggunakan Pandas untuk memudahkan manipulasi data.\n",
        "2. `df.to_csv('HoK_Review.csv', index=False, encoding='utf-8')`\n",
        "- Menyimpan DatFrame `df` kedalam **CSV** dengan nama `HoK_Review.csv`, tanpa menyertakan indeks baris, dan menggunakan encoding **UTF-8** Untuk memastikan karakter disimpand engan benar."
      ],
      "metadata": {
        "id": "uhT_T6KobrWw"
      }
    },
    {
      "cell_type": "code",
      "source": [
        "df = pd.DataFrame(data)\n",
        "df.to_csv('HoK_Review.csv', index=False, encoding='utf-8')"
      ],
      "metadata": {
        "id": "txSrqlL0sp4V"
      },
      "execution_count": null,
      "outputs": []
    },
    {
      "cell_type": "markdown",
      "source": [
        "# Check Data Hasil Scrapping"
      ],
      "metadata": {
        "id": "wf1poM7ejxKv"
      }
    },
    {
      "cell_type": "code",
      "source": [
        "# Baca data review yang telah disimpan dari file CSV\n",
        "df = pd.read_csv('HoK_Review.csv')"
      ],
      "metadata": {
        "id": "kUCmOlX6jebw"
      },
      "execution_count": null,
      "outputs": []
    },
    {
      "cell_type": "code",
      "source": [
        "# Tampilkan 5 baris pertama dari data review\n",
        "df.head()"
      ],
      "metadata": {
        "colab": {
          "base_uri": "https://localhost:8080/",
          "height": 206
        },
        "id": "HYhsXir7jtvg",
        "outputId": "5675bd14-a768-4c23-ae14-1fb7cd1cb24f"
      },
      "execution_count": null,
      "outputs": [
        {
          "output_type": "execute_result",
          "data": {
            "text/plain": [
              "                                              Review\n",
              "0                 Game asu, perbaiki match makingnya\n",
              "1  Hey Tencent you better hear me out I found man...\n",
              "2                                         Much worse\n",
              "3  Don't play this game. This game are suck with ...\n",
              "4                                          You suck."
            ],
            "text/html": [
              "\n",
              "  <div id=\"df-2c3a3425-4e4f-40af-98a9-f37b0792abe5\" class=\"colab-df-container\">\n",
              "    <div>\n",
              "<style scoped>\n",
              "    .dataframe tbody tr th:only-of-type {\n",
              "        vertical-align: middle;\n",
              "    }\n",
              "\n",
              "    .dataframe tbody tr th {\n",
              "        vertical-align: top;\n",
              "    }\n",
              "\n",
              "    .dataframe thead th {\n",
              "        text-align: right;\n",
              "    }\n",
              "</style>\n",
              "<table border=\"1\" class=\"dataframe\">\n",
              "  <thead>\n",
              "    <tr style=\"text-align: right;\">\n",
              "      <th></th>\n",
              "      <th>Review</th>\n",
              "    </tr>\n",
              "  </thead>\n",
              "  <tbody>\n",
              "    <tr>\n",
              "      <th>0</th>\n",
              "      <td>Game asu, perbaiki match makingnya</td>\n",
              "    </tr>\n",
              "    <tr>\n",
              "      <th>1</th>\n",
              "      <td>Hey Tencent you better hear me out I found man...</td>\n",
              "    </tr>\n",
              "    <tr>\n",
              "      <th>2</th>\n",
              "      <td>Much worse</td>\n",
              "    </tr>\n",
              "    <tr>\n",
              "      <th>3</th>\n",
              "      <td>Don't play this game. This game are suck with ...</td>\n",
              "    </tr>\n",
              "    <tr>\n",
              "      <th>4</th>\n",
              "      <td>You suck.</td>\n",
              "    </tr>\n",
              "  </tbody>\n",
              "</table>\n",
              "</div>\n",
              "    <div class=\"colab-df-buttons\">\n",
              "\n",
              "  <div class=\"colab-df-container\">\n",
              "    <button class=\"colab-df-convert\" onclick=\"convertToInteractive('df-2c3a3425-4e4f-40af-98a9-f37b0792abe5')\"\n",
              "            title=\"Convert this dataframe to an interactive table.\"\n",
              "            style=\"display:none;\">\n",
              "\n",
              "  <svg xmlns=\"http://www.w3.org/2000/svg\" height=\"24px\" viewBox=\"0 -960 960 960\">\n",
              "    <path d=\"M120-120v-720h720v720H120Zm60-500h600v-160H180v160Zm220 220h160v-160H400v160Zm0 220h160v-160H400v160ZM180-400h160v-160H180v160Zm440 0h160v-160H620v160ZM180-180h160v-160H180v160Zm440 0h160v-160H620v160Z\"/>\n",
              "  </svg>\n",
              "    </button>\n",
              "\n",
              "  <style>\n",
              "    .colab-df-container {\n",
              "      display:flex;\n",
              "      gap: 12px;\n",
              "    }\n",
              "\n",
              "    .colab-df-convert {\n",
              "      background-color: #E8F0FE;\n",
              "      border: none;\n",
              "      border-radius: 50%;\n",
              "      cursor: pointer;\n",
              "      display: none;\n",
              "      fill: #1967D2;\n",
              "      height: 32px;\n",
              "      padding: 0 0 0 0;\n",
              "      width: 32px;\n",
              "    }\n",
              "\n",
              "    .colab-df-convert:hover {\n",
              "      background-color: #E2EBFA;\n",
              "      box-shadow: 0px 1px 2px rgba(60, 64, 67, 0.3), 0px 1px 3px 1px rgba(60, 64, 67, 0.15);\n",
              "      fill: #174EA6;\n",
              "    }\n",
              "\n",
              "    .colab-df-buttons div {\n",
              "      margin-bottom: 4px;\n",
              "    }\n",
              "\n",
              "    [theme=dark] .colab-df-convert {\n",
              "      background-color: #3B4455;\n",
              "      fill: #D2E3FC;\n",
              "    }\n",
              "\n",
              "    [theme=dark] .colab-df-convert:hover {\n",
              "      background-color: #434B5C;\n",
              "      box-shadow: 0px 1px 3px 1px rgba(0, 0, 0, 0.15);\n",
              "      filter: drop-shadow(0px 1px 2px rgba(0, 0, 0, 0.3));\n",
              "      fill: #FFFFFF;\n",
              "    }\n",
              "  </style>\n",
              "\n",
              "    <script>\n",
              "      const buttonEl =\n",
              "        document.querySelector('#df-2c3a3425-4e4f-40af-98a9-f37b0792abe5 button.colab-df-convert');\n",
              "      buttonEl.style.display =\n",
              "        google.colab.kernel.accessAllowed ? 'block' : 'none';\n",
              "\n",
              "      async function convertToInteractive(key) {\n",
              "        const element = document.querySelector('#df-2c3a3425-4e4f-40af-98a9-f37b0792abe5');\n",
              "        const dataTable =\n",
              "          await google.colab.kernel.invokeFunction('convertToInteractive',\n",
              "                                                    [key], {});\n",
              "        if (!dataTable) return;\n",
              "\n",
              "        const docLinkHtml = 'Like what you see? Visit the ' +\n",
              "          '<a target=\"_blank\" href=https://colab.research.google.com/notebooks/data_table.ipynb>data table notebook</a>'\n",
              "          + ' to learn more about interactive tables.';\n",
              "        element.innerHTML = '';\n",
              "        dataTable['output_type'] = 'display_data';\n",
              "        await google.colab.output.renderOutput(dataTable, element);\n",
              "        const docLink = document.createElement('div');\n",
              "        docLink.innerHTML = docLinkHtml;\n",
              "        element.appendChild(docLink);\n",
              "      }\n",
              "    </script>\n",
              "  </div>\n",
              "\n",
              "\n",
              "<div id=\"df-846ff49b-7480-488f-806d-82dfa505a9b2\">\n",
              "  <button class=\"colab-df-quickchart\" onclick=\"quickchart('df-846ff49b-7480-488f-806d-82dfa505a9b2')\"\n",
              "            title=\"Suggest charts\"\n",
              "            style=\"display:none;\">\n",
              "\n",
              "<svg xmlns=\"http://www.w3.org/2000/svg\" height=\"24px\"viewBox=\"0 0 24 24\"\n",
              "     width=\"24px\">\n",
              "    <g>\n",
              "        <path d=\"M19 3H5c-1.1 0-2 .9-2 2v14c0 1.1.9 2 2 2h14c1.1 0 2-.9 2-2V5c0-1.1-.9-2-2-2zM9 17H7v-7h2v7zm4 0h-2V7h2v10zm4 0h-2v-4h2v4z\"/>\n",
              "    </g>\n",
              "</svg>\n",
              "  </button>\n",
              "\n",
              "<style>\n",
              "  .colab-df-quickchart {\n",
              "      --bg-color: #E8F0FE;\n",
              "      --fill-color: #1967D2;\n",
              "      --hover-bg-color: #E2EBFA;\n",
              "      --hover-fill-color: #174EA6;\n",
              "      --disabled-fill-color: #AAA;\n",
              "      --disabled-bg-color: #DDD;\n",
              "  }\n",
              "\n",
              "  [theme=dark] .colab-df-quickchart {\n",
              "      --bg-color: #3B4455;\n",
              "      --fill-color: #D2E3FC;\n",
              "      --hover-bg-color: #434B5C;\n",
              "      --hover-fill-color: #FFFFFF;\n",
              "      --disabled-bg-color: #3B4455;\n",
              "      --disabled-fill-color: #666;\n",
              "  }\n",
              "\n",
              "  .colab-df-quickchart {\n",
              "    background-color: var(--bg-color);\n",
              "    border: none;\n",
              "    border-radius: 50%;\n",
              "    cursor: pointer;\n",
              "    display: none;\n",
              "    fill: var(--fill-color);\n",
              "    height: 32px;\n",
              "    padding: 0;\n",
              "    width: 32px;\n",
              "  }\n",
              "\n",
              "  .colab-df-quickchart:hover {\n",
              "    background-color: var(--hover-bg-color);\n",
              "    box-shadow: 0 1px 2px rgba(60, 64, 67, 0.3), 0 1px 3px 1px rgba(60, 64, 67, 0.15);\n",
              "    fill: var(--button-hover-fill-color);\n",
              "  }\n",
              "\n",
              "  .colab-df-quickchart-complete:disabled,\n",
              "  .colab-df-quickchart-complete:disabled:hover {\n",
              "    background-color: var(--disabled-bg-color);\n",
              "    fill: var(--disabled-fill-color);\n",
              "    box-shadow: none;\n",
              "  }\n",
              "\n",
              "  .colab-df-spinner {\n",
              "    border: 2px solid var(--fill-color);\n",
              "    border-color: transparent;\n",
              "    border-bottom-color: var(--fill-color);\n",
              "    animation:\n",
              "      spin 1s steps(1) infinite;\n",
              "  }\n",
              "\n",
              "  @keyframes spin {\n",
              "    0% {\n",
              "      border-color: transparent;\n",
              "      border-bottom-color: var(--fill-color);\n",
              "      border-left-color: var(--fill-color);\n",
              "    }\n",
              "    20% {\n",
              "      border-color: transparent;\n",
              "      border-left-color: var(--fill-color);\n",
              "      border-top-color: var(--fill-color);\n",
              "    }\n",
              "    30% {\n",
              "      border-color: transparent;\n",
              "      border-left-color: var(--fill-color);\n",
              "      border-top-color: var(--fill-color);\n",
              "      border-right-color: var(--fill-color);\n",
              "    }\n",
              "    40% {\n",
              "      border-color: transparent;\n",
              "      border-right-color: var(--fill-color);\n",
              "      border-top-color: var(--fill-color);\n",
              "    }\n",
              "    60% {\n",
              "      border-color: transparent;\n",
              "      border-right-color: var(--fill-color);\n",
              "    }\n",
              "    80% {\n",
              "      border-color: transparent;\n",
              "      border-right-color: var(--fill-color);\n",
              "      border-bottom-color: var(--fill-color);\n",
              "    }\n",
              "    90% {\n",
              "      border-color: transparent;\n",
              "      border-bottom-color: var(--fill-color);\n",
              "    }\n",
              "  }\n",
              "</style>\n",
              "\n",
              "  <script>\n",
              "    async function quickchart(key) {\n",
              "      const quickchartButtonEl =\n",
              "        document.querySelector('#' + key + ' button');\n",
              "      quickchartButtonEl.disabled = true;  // To prevent multiple clicks.\n",
              "      quickchartButtonEl.classList.add('colab-df-spinner');\n",
              "      try {\n",
              "        const charts = await google.colab.kernel.invokeFunction(\n",
              "            'suggestCharts', [key], {});\n",
              "      } catch (error) {\n",
              "        console.error('Error during call to suggestCharts:', error);\n",
              "      }\n",
              "      quickchartButtonEl.classList.remove('colab-df-spinner');\n",
              "      quickchartButtonEl.classList.add('colab-df-quickchart-complete');\n",
              "    }\n",
              "    (() => {\n",
              "      let quickchartButtonEl =\n",
              "        document.querySelector('#df-846ff49b-7480-488f-806d-82dfa505a9b2 button');\n",
              "      quickchartButtonEl.style.display =\n",
              "        google.colab.kernel.accessAllowed ? 'block' : 'none';\n",
              "    })();\n",
              "  </script>\n",
              "</div>\n",
              "\n",
              "    </div>\n",
              "  </div>\n"
            ],
            "application/vnd.google.colaboratory.intrinsic+json": {
              "type": "dataframe",
              "variable_name": "df",
              "summary": "{\n  \"name\": \"df\",\n  \"rows\": 10000,\n  \"fields\": [\n    {\n      \"column\": \"Review\",\n      \"properties\": {\n        \"dtype\": \"string\",\n        \"num_unique_values\": 7736,\n        \"samples\": [\n          \"satisfied\",\n          \"..amazing..\",\n          \"It's a Great game. i gained a lot of skins.\"\n        ],\n        \"semantic_type\": \"\",\n        \"description\": \"\"\n      }\n    }\n  ]\n}"
            }
          },
          "metadata": {},
          "execution_count": 9
        }
      ]
    },
    {
      "cell_type": "code",
      "source": [
        "# Tampilkan informasi umum tentang data, seperti jumlah baris dan kolom, serta tipe data masing-masing kolom\n",
        "df.info()"
      ],
      "metadata": {
        "colab": {
          "base_uri": "https://localhost:8080/"
        },
        "id": "5MiZJ3FMju_N",
        "outputId": "72b86024-e462-49e8-8c41-ecace60615dc"
      },
      "execution_count": null,
      "outputs": [
        {
          "output_type": "stream",
          "name": "stdout",
          "text": [
            "<class 'pandas.core.frame.DataFrame'>\n",
            "RangeIndex: 10000 entries, 0 to 9999\n",
            "Data columns (total 1 columns):\n",
            " #   Column  Non-Null Count  Dtype \n",
            "---  ------  --------------  ----- \n",
            " 0   Review  9999 non-null   object\n",
            "dtypes: object(1)\n",
            "memory usage: 78.2+ KB\n"
          ]
        }
      ]
    }
  ]
}