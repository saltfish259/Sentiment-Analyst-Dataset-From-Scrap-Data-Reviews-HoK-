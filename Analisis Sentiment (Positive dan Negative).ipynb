{
  "nbformat": 4,
  "nbformat_minor": 0,
  "metadata": {
    "colab": {
      "provenance": [],
      "gpuType": "T4",
      "authorship_tag": "ABX9TyM+s7hTR7Q5w6WqbQAECG08",
      "include_colab_link": true
    },
    "kernelspec": {
      "name": "python3",
      "display_name": "Python 3"
    },
    "language_info": {
      "name": "python"
    },
    "accelerator": "GPU"
  },
  "cells": [
    {
      "cell_type": "markdown",
      "metadata": {
        "id": "view-in-github",
        "colab_type": "text"
      },
      "source": [
        "<a href=\"https://colab.research.google.com/github/saltfish259/Sentiment-Analyst-Dataset-From-Scrap-Data-Reviews-HoK-/blob/main/Analisis%20Sentiment%20(Positive%20dan%20Negative).ipynb\" target=\"_parent\"><img src=\"https://colab.research.google.com/assets/colab-badge.svg\" alt=\"Open In Colab\"/></a>"
      ]
    },
    {
      "cell_type": "markdown",
      "source": [
        "## Import Libraries"
      ],
      "metadata": {
        "id": "yCTAhbXvZI8X"
      }
    },
    {
      "cell_type": "markdown",
      "source": [
        "Libraries ini digunakan untuk analisis teks, pemrosesan bahasa alami NLP, dan pembuatan model ML, untuk analisis sentiment dan klasifikasi teks.\n",
        "1. `from google.colab import files`\n",
        "- Mengimpor modul untuk menggunggah atau mengunduh file di lingkungan Google Colab.\n",
        "2. `mport pandas as pd`\n",
        "- Mengimpor Pandas, digunakan untuk manipulasi dan analisis data dalam bentuk tabel.\n",
        "3. `import numpy as np`\n",
        "- Library untuk operasi matematika dan manipulasi array.\n",
        "4. `import re`\n",
        "- Modul **Regular Expression (Regex)** untuk pencocokan pola teks.\n",
        "5. `import nltk`\n",
        "- `Natural Languange Toolkit (nltk)`. library pemrosesan bahasa alami.\n",
        "6. `from nltk.corpus import stopwords`\n",
        "- Mengimpor **stopwords** dari nltk, yaitu kata kata umum yang biasanya diabaikan dalam analisis teks (misal \"the\" dan \"is\").\n",
        "7.` from nltk.stem import WordNetLemmatizer`\n",
        "- Mengimpor **lemmatizer** dari nltk, digunakan untuk mereduksi kata ke bentuk dasar.\n",
        "8. `from nltk.sentiment.vader import SentimentIntensityAnalyzer`\n",
        "- **Vader** dari nltk, alat untuk menganalisis sentimen teks.\n",
        "9. `import tensorflow as tf`\n",
        "- Import **TensorFlow**, library deep learning untuk membangun dan melatih model.\n",
        "10.`from tensorflow.keras.preprocessing.text import Tokenizer`\n",
        "- **Tokenizer** dari keras untuk memproses teks menjadi token.\n",
        "11.`from tensorflow.keras.preprocessing.sequence import pad_sequences`\n",
        "- Fungsi untuk melakukan **padding** pad aurutan teks agar memiliki panjang yang sama.\n",
        "12.`from tensorflow.keras.models import Sequential `\n",
        "- Sequential model dari keras, model deep learning yang terdiri dari lapisan berurutan.\n",
        "13.`from tensorflow.keras.layers import Conv1D, MaxPooling1D, GlobalMaxPooling1D, Embedding, Dense, Dropout`\n",
        "- `Conv1D`, Lapisan konvolusi 1D untuk menganalisis urutan teks.\n",
        "- `MaxPooling1D`, Lapisan pooling untuk mengurangi dimensi data.\n",
        "- `Embedding`, Lapisan pooling global.\n",
        "- `Dense`, Lapisan fully connected.\n",
        "- `Dropout`, Lapisan untuk mencegah overfitting.\n",
        "14.`from tensorflow.keras.callbacks import EarlyStopping`\n",
        "- EarlyStopping, yang menghentikan pelatihan jika model tidak menunjukkan peningkatan untuk menghindari overfitting.\n",
        "15.`from sklearn.model_selection import train_test_split`\n",
        "- Mengimpor fungsi untuk membagi dataset menjadi **training** dan **testing set**.\n",
        "16.`from sklearn.preprocessing import LabelEncoder`\n",
        "- **LabelEncoder** untuk mengonversi label kategori menjadi numerik."
      ],
      "metadata": {
        "id": "2B3r5pHoeoCm"
      }
    },
    {
      "cell_type": "code",
      "source": [
        "from google.colab import files\n",
        "import pandas as pd\n",
        "import numpy as np\n",
        "import re\n",
        "import nltk\n",
        "from nltk.corpus import stopwords\n",
        "from nltk.stem import WordNetLemmatizer\n",
        "from nltk.sentiment.vader import SentimentIntensityAnalyzer\n",
        "import tensorflow as tf\n",
        "from tensorflow.keras.preprocessing.text import Tokenizer\n",
        "from tensorflow.keras.preprocessing.sequence import pad_sequences\n",
        "from tensorflow.keras.models import Sequential\n",
        "from tensorflow.keras.layers import Conv1D, MaxPooling1D, GlobalMaxPooling1D, Embedding, Dense, Dropout\n",
        "from tensorflow.keras.callbacks import EarlyStopping\n",
        "from sklearn.model_selection import train_test_split\n",
        "from sklearn.preprocessing import LabelEncoder"
      ],
      "metadata": {
        "id": "uoHd6f4JZIyv"
      },
      "execution_count": null,
      "outputs": []
    },
    {
      "cell_type": "markdown",
      "source": [
        "Kode ini mengunduh sumber daya penting dari NLTK yang diperlukan untuk pemrosesan bahasa alami, termasuk analisis sentimen, penghapusan stopwords, tokenisasi, dan lemmatization.\n",
        "1. `nltk.download('vader_lexicon')`\n",
        "- Mengunduh **Vader lexicon**, digunakan oleh Sentiment Intensity Analyzer untuk analisis sentiment teks.\n",
        "2. `nltk.download('stopwords')`\n",
        "- Mengunduh daftar **stopwords**, yaitu kata-kata umum yang biasanya diabaikan dalam pemrosesan teks, seperti \"the\", \"is\", dan \"and\".\n",
        "3. `nltk.download('punkt')`\n",
        "- **Punkt tokenizer**, digunakan untuk membagi teks menjadi kalimat dna kata.\n",
        "4. `nltk.download('wordnet')`\n",
        "- **Wordnet**, sebuah basis data leksikal yang berisi sinonim, anatonim, dan hubungan kata, digunakan untuk lemmatization.\n"
      ],
      "metadata": {
        "id": "U9ZaMZCihPe9"
      }
    },
    {
      "cell_type": "code",
      "source": [
        "# Download NLTK resources\n",
        "nltk.download('vader_lexicon')\n",
        "nltk.download('stopwords')\n",
        "nltk.download('punkt')\n",
        "nltk.download('wordnet')"
      ],
      "metadata": {
        "colab": {
          "base_uri": "https://localhost:8080/"
        },
        "id": "5LZAgk6LZP-3",
        "outputId": "97805e40-8c75-4399-b41c-d0799fd76c8d"
      },
      "execution_count": null,
      "outputs": [
        {
          "output_type": "stream",
          "name": "stderr",
          "text": [
            "[nltk_data] Downloading package vader_lexicon to /root/nltk_data...\n",
            "[nltk_data] Downloading package stopwords to /root/nltk_data...\n",
            "[nltk_data]   Unzipping corpora/stopwords.zip.\n",
            "[nltk_data] Downloading package punkt to /root/nltk_data...\n",
            "[nltk_data]   Unzipping tokenizers/punkt.zip.\n",
            "[nltk_data] Downloading package wordnet to /root/nltk_data...\n"
          ]
        },
        {
          "output_type": "execute_result",
          "data": {
            "text/plain": [
              "True"
            ]
          },
          "metadata": {},
          "execution_count": 2
        }
      ]
    },
    {
      "cell_type": "markdown",
      "source": [
        "## Load and Preprocess Data"
      ],
      "metadata": {
        "id": "DlqFDEl1ZR0_"
      }
    },
    {
      "cell_type": "code",
      "source": [
        "# Upload dan load dataset\n",
        "upload = files.upload()  # Unggah file dari lokal\n",
        "df = pd.read_csv('HoK_Review.csv')  # Load data review"
      ],
      "metadata": {
        "colab": {
          "base_uri": "https://localhost:8080/",
          "height": 71
        },
        "id": "wCyp6N4BZUXn",
        "outputId": "3bfb411e-66f9-4ec8-e537-8910c49a777f"
      },
      "execution_count": null,
      "outputs": [
        {
          "output_type": "display_data",
          "data": {
            "text/plain": [
              "<IPython.core.display.HTML object>"
            ],
            "text/html": [
              "\n",
              "     <input type=\"file\" id=\"files-e7fee8b1-7826-4ed9-aec2-44124b865fd2\" name=\"files[]\" multiple disabled\n",
              "        style=\"border:none\" />\n",
              "     <output id=\"result-e7fee8b1-7826-4ed9-aec2-44124b865fd2\">\n",
              "      Upload widget is only available when the cell has been executed in the\n",
              "      current browser session. Please rerun this cell to enable.\n",
              "      </output>\n",
              "      <script>// Copyright 2017 Google LLC\n",
              "//\n",
              "// Licensed under the Apache License, Version 2.0 (the \"License\");\n",
              "// you may not use this file except in compliance with the License.\n",
              "// You may obtain a copy of the License at\n",
              "//\n",
              "//      http://www.apache.org/licenses/LICENSE-2.0\n",
              "//\n",
              "// Unless required by applicable law or agreed to in writing, software\n",
              "// distributed under the License is distributed on an \"AS IS\" BASIS,\n",
              "// WITHOUT WARRANTIES OR CONDITIONS OF ANY KIND, either express or implied.\n",
              "// See the License for the specific language governing permissions and\n",
              "// limitations under the License.\n",
              "\n",
              "/**\n",
              " * @fileoverview Helpers for google.colab Python module.\n",
              " */\n",
              "(function(scope) {\n",
              "function span(text, styleAttributes = {}) {\n",
              "  const element = document.createElement('span');\n",
              "  element.textContent = text;\n",
              "  for (const key of Object.keys(styleAttributes)) {\n",
              "    element.style[key] = styleAttributes[key];\n",
              "  }\n",
              "  return element;\n",
              "}\n",
              "\n",
              "// Max number of bytes which will be uploaded at a time.\n",
              "const MAX_PAYLOAD_SIZE = 100 * 1024;\n",
              "\n",
              "function _uploadFiles(inputId, outputId) {\n",
              "  const steps = uploadFilesStep(inputId, outputId);\n",
              "  const outputElement = document.getElementById(outputId);\n",
              "  // Cache steps on the outputElement to make it available for the next call\n",
              "  // to uploadFilesContinue from Python.\n",
              "  outputElement.steps = steps;\n",
              "\n",
              "  return _uploadFilesContinue(outputId);\n",
              "}\n",
              "\n",
              "// This is roughly an async generator (not supported in the browser yet),\n",
              "// where there are multiple asynchronous steps and the Python side is going\n",
              "// to poll for completion of each step.\n",
              "// This uses a Promise to block the python side on completion of each step,\n",
              "// then passes the result of the previous step as the input to the next step.\n",
              "function _uploadFilesContinue(outputId) {\n",
              "  const outputElement = document.getElementById(outputId);\n",
              "  const steps = outputElement.steps;\n",
              "\n",
              "  const next = steps.next(outputElement.lastPromiseValue);\n",
              "  return Promise.resolve(next.value.promise).then((value) => {\n",
              "    // Cache the last promise value to make it available to the next\n",
              "    // step of the generator.\n",
              "    outputElement.lastPromiseValue = value;\n",
              "    return next.value.response;\n",
              "  });\n",
              "}\n",
              "\n",
              "/**\n",
              " * Generator function which is called between each async step of the upload\n",
              " * process.\n",
              " * @param {string} inputId Element ID of the input file picker element.\n",
              " * @param {string} outputId Element ID of the output display.\n",
              " * @return {!Iterable<!Object>} Iterable of next steps.\n",
              " */\n",
              "function* uploadFilesStep(inputId, outputId) {\n",
              "  const inputElement = document.getElementById(inputId);\n",
              "  inputElement.disabled = false;\n",
              "\n",
              "  const outputElement = document.getElementById(outputId);\n",
              "  outputElement.innerHTML = '';\n",
              "\n",
              "  const pickedPromise = new Promise((resolve) => {\n",
              "    inputElement.addEventListener('change', (e) => {\n",
              "      resolve(e.target.files);\n",
              "    });\n",
              "  });\n",
              "\n",
              "  const cancel = document.createElement('button');\n",
              "  inputElement.parentElement.appendChild(cancel);\n",
              "  cancel.textContent = 'Cancel upload';\n",
              "  const cancelPromise = new Promise((resolve) => {\n",
              "    cancel.onclick = () => {\n",
              "      resolve(null);\n",
              "    };\n",
              "  });\n",
              "\n",
              "  // Wait for the user to pick the files.\n",
              "  const files = yield {\n",
              "    promise: Promise.race([pickedPromise, cancelPromise]),\n",
              "    response: {\n",
              "      action: 'starting',\n",
              "    }\n",
              "  };\n",
              "\n",
              "  cancel.remove();\n",
              "\n",
              "  // Disable the input element since further picks are not allowed.\n",
              "  inputElement.disabled = true;\n",
              "\n",
              "  if (!files) {\n",
              "    return {\n",
              "      response: {\n",
              "        action: 'complete',\n",
              "      }\n",
              "    };\n",
              "  }\n",
              "\n",
              "  for (const file of files) {\n",
              "    const li = document.createElement('li');\n",
              "    li.append(span(file.name, {fontWeight: 'bold'}));\n",
              "    li.append(span(\n",
              "        `(${file.type || 'n/a'}) - ${file.size} bytes, ` +\n",
              "        `last modified: ${\n",
              "            file.lastModifiedDate ? file.lastModifiedDate.toLocaleDateString() :\n",
              "                                    'n/a'} - `));\n",
              "    const percent = span('0% done');\n",
              "    li.appendChild(percent);\n",
              "\n",
              "    outputElement.appendChild(li);\n",
              "\n",
              "    const fileDataPromise = new Promise((resolve) => {\n",
              "      const reader = new FileReader();\n",
              "      reader.onload = (e) => {\n",
              "        resolve(e.target.result);\n",
              "      };\n",
              "      reader.readAsArrayBuffer(file);\n",
              "    });\n",
              "    // Wait for the data to be ready.\n",
              "    let fileData = yield {\n",
              "      promise: fileDataPromise,\n",
              "      response: {\n",
              "        action: 'continue',\n",
              "      }\n",
              "    };\n",
              "\n",
              "    // Use a chunked sending to avoid message size limits. See b/62115660.\n",
              "    let position = 0;\n",
              "    do {\n",
              "      const length = Math.min(fileData.byteLength - position, MAX_PAYLOAD_SIZE);\n",
              "      const chunk = new Uint8Array(fileData, position, length);\n",
              "      position += length;\n",
              "\n",
              "      const base64 = btoa(String.fromCharCode.apply(null, chunk));\n",
              "      yield {\n",
              "        response: {\n",
              "          action: 'append',\n",
              "          file: file.name,\n",
              "          data: base64,\n",
              "        },\n",
              "      };\n",
              "\n",
              "      let percentDone = fileData.byteLength === 0 ?\n",
              "          100 :\n",
              "          Math.round((position / fileData.byteLength) * 100);\n",
              "      percent.textContent = `${percentDone}% done`;\n",
              "\n",
              "    } while (position < fileData.byteLength);\n",
              "  }\n",
              "\n",
              "  // All done.\n",
              "  yield {\n",
              "    response: {\n",
              "      action: 'complete',\n",
              "    }\n",
              "  };\n",
              "}\n",
              "\n",
              "scope.google = scope.google || {};\n",
              "scope.google.colab = scope.google.colab || {};\n",
              "scope.google.colab._files = {\n",
              "  _uploadFiles,\n",
              "  _uploadFilesContinue,\n",
              "};\n",
              "})(self);\n",
              "</script> "
            ]
          },
          "metadata": {}
        },
        {
          "output_type": "stream",
          "name": "stdout",
          "text": [
            "Saving HoK_Review.csv to HoK_Review (1).csv\n"
          ]
        }
      ]
    },
    {
      "cell_type": "code",
      "source": [
        "# Tampilkan 5 baris pertama untuk memastikan data telah dimuat dengan benar\n",
        "df.head()"
      ],
      "metadata": {
        "colab": {
          "base_uri": "https://localhost:8080/",
          "height": 206
        },
        "id": "gAbtY4KFZV5w",
        "outputId": "3be7569b-baa0-4d78-bab4-88aa844f4d3b"
      },
      "execution_count": null,
      "outputs": [
        {
          "output_type": "execute_result",
          "data": {
            "text/plain": [
              "                                              Review\n",
              "0                 Game asu, perbaiki match makingnya\n",
              "1  Hey Tencent you better hear me out I found man...\n",
              "2                                         Much worse\n",
              "3  Don't play this game. This game are suck with ...\n",
              "4                                          You suck."
            ],
            "text/html": [
              "\n",
              "  <div id=\"df-15ad7953-8ed6-4648-9cd0-2f92f2de4e9d\" class=\"colab-df-container\">\n",
              "    <div>\n",
              "<style scoped>\n",
              "    .dataframe tbody tr th:only-of-type {\n",
              "        vertical-align: middle;\n",
              "    }\n",
              "\n",
              "    .dataframe tbody tr th {\n",
              "        vertical-align: top;\n",
              "    }\n",
              "\n",
              "    .dataframe thead th {\n",
              "        text-align: right;\n",
              "    }\n",
              "</style>\n",
              "<table border=\"1\" class=\"dataframe\">\n",
              "  <thead>\n",
              "    <tr style=\"text-align: right;\">\n",
              "      <th></th>\n",
              "      <th>Review</th>\n",
              "    </tr>\n",
              "  </thead>\n",
              "  <tbody>\n",
              "    <tr>\n",
              "      <th>0</th>\n",
              "      <td>Game asu, perbaiki match makingnya</td>\n",
              "    </tr>\n",
              "    <tr>\n",
              "      <th>1</th>\n",
              "      <td>Hey Tencent you better hear me out I found man...</td>\n",
              "    </tr>\n",
              "    <tr>\n",
              "      <th>2</th>\n",
              "      <td>Much worse</td>\n",
              "    </tr>\n",
              "    <tr>\n",
              "      <th>3</th>\n",
              "      <td>Don't play this game. This game are suck with ...</td>\n",
              "    </tr>\n",
              "    <tr>\n",
              "      <th>4</th>\n",
              "      <td>You suck.</td>\n",
              "    </tr>\n",
              "  </tbody>\n",
              "</table>\n",
              "</div>\n",
              "    <div class=\"colab-df-buttons\">\n",
              "\n",
              "  <div class=\"colab-df-container\">\n",
              "    <button class=\"colab-df-convert\" onclick=\"convertToInteractive('df-15ad7953-8ed6-4648-9cd0-2f92f2de4e9d')\"\n",
              "            title=\"Convert this dataframe to an interactive table.\"\n",
              "            style=\"display:none;\">\n",
              "\n",
              "  <svg xmlns=\"http://www.w3.org/2000/svg\" height=\"24px\" viewBox=\"0 -960 960 960\">\n",
              "    <path d=\"M120-120v-720h720v720H120Zm60-500h600v-160H180v160Zm220 220h160v-160H400v160Zm0 220h160v-160H400v160ZM180-400h160v-160H180v160Zm440 0h160v-160H620v160ZM180-180h160v-160H180v160Zm440 0h160v-160H620v160Z\"/>\n",
              "  </svg>\n",
              "    </button>\n",
              "\n",
              "  <style>\n",
              "    .colab-df-container {\n",
              "      display:flex;\n",
              "      gap: 12px;\n",
              "    }\n",
              "\n",
              "    .colab-df-convert {\n",
              "      background-color: #E8F0FE;\n",
              "      border: none;\n",
              "      border-radius: 50%;\n",
              "      cursor: pointer;\n",
              "      display: none;\n",
              "      fill: #1967D2;\n",
              "      height: 32px;\n",
              "      padding: 0 0 0 0;\n",
              "      width: 32px;\n",
              "    }\n",
              "\n",
              "    .colab-df-convert:hover {\n",
              "      background-color: #E2EBFA;\n",
              "      box-shadow: 0px 1px 2px rgba(60, 64, 67, 0.3), 0px 1px 3px 1px rgba(60, 64, 67, 0.15);\n",
              "      fill: #174EA6;\n",
              "    }\n",
              "\n",
              "    .colab-df-buttons div {\n",
              "      margin-bottom: 4px;\n",
              "    }\n",
              "\n",
              "    [theme=dark] .colab-df-convert {\n",
              "      background-color: #3B4455;\n",
              "      fill: #D2E3FC;\n",
              "    }\n",
              "\n",
              "    [theme=dark] .colab-df-convert:hover {\n",
              "      background-color: #434B5C;\n",
              "      box-shadow: 0px 1px 3px 1px rgba(0, 0, 0, 0.15);\n",
              "      filter: drop-shadow(0px 1px 2px rgba(0, 0, 0, 0.3));\n",
              "      fill: #FFFFFF;\n",
              "    }\n",
              "  </style>\n",
              "\n",
              "    <script>\n",
              "      const buttonEl =\n",
              "        document.querySelector('#df-15ad7953-8ed6-4648-9cd0-2f92f2de4e9d button.colab-df-convert');\n",
              "      buttonEl.style.display =\n",
              "        google.colab.kernel.accessAllowed ? 'block' : 'none';\n",
              "\n",
              "      async function convertToInteractive(key) {\n",
              "        const element = document.querySelector('#df-15ad7953-8ed6-4648-9cd0-2f92f2de4e9d');\n",
              "        const dataTable =\n",
              "          await google.colab.kernel.invokeFunction('convertToInteractive',\n",
              "                                                    [key], {});\n",
              "        if (!dataTable) return;\n",
              "\n",
              "        const docLinkHtml = 'Like what you see? Visit the ' +\n",
              "          '<a target=\"_blank\" href=https://colab.research.google.com/notebooks/data_table.ipynb>data table notebook</a>'\n",
              "          + ' to learn more about interactive tables.';\n",
              "        element.innerHTML = '';\n",
              "        dataTable['output_type'] = 'display_data';\n",
              "        await google.colab.output.renderOutput(dataTable, element);\n",
              "        const docLink = document.createElement('div');\n",
              "        docLink.innerHTML = docLinkHtml;\n",
              "        element.appendChild(docLink);\n",
              "      }\n",
              "    </script>\n",
              "  </div>\n",
              "\n",
              "\n",
              "<div id=\"df-e9bf1aea-5058-4704-8516-5b1962e08588\">\n",
              "  <button class=\"colab-df-quickchart\" onclick=\"quickchart('df-e9bf1aea-5058-4704-8516-5b1962e08588')\"\n",
              "            title=\"Suggest charts\"\n",
              "            style=\"display:none;\">\n",
              "\n",
              "<svg xmlns=\"http://www.w3.org/2000/svg\" height=\"24px\"viewBox=\"0 0 24 24\"\n",
              "     width=\"24px\">\n",
              "    <g>\n",
              "        <path d=\"M19 3H5c-1.1 0-2 .9-2 2v14c0 1.1.9 2 2 2h14c1.1 0 2-.9 2-2V5c0-1.1-.9-2-2-2zM9 17H7v-7h2v7zm4 0h-2V7h2v10zm4 0h-2v-4h2v4z\"/>\n",
              "    </g>\n",
              "</svg>\n",
              "  </button>\n",
              "\n",
              "<style>\n",
              "  .colab-df-quickchart {\n",
              "      --bg-color: #E8F0FE;\n",
              "      --fill-color: #1967D2;\n",
              "      --hover-bg-color: #E2EBFA;\n",
              "      --hover-fill-color: #174EA6;\n",
              "      --disabled-fill-color: #AAA;\n",
              "      --disabled-bg-color: #DDD;\n",
              "  }\n",
              "\n",
              "  [theme=dark] .colab-df-quickchart {\n",
              "      --bg-color: #3B4455;\n",
              "      --fill-color: #D2E3FC;\n",
              "      --hover-bg-color: #434B5C;\n",
              "      --hover-fill-color: #FFFFFF;\n",
              "      --disabled-bg-color: #3B4455;\n",
              "      --disabled-fill-color: #666;\n",
              "  }\n",
              "\n",
              "  .colab-df-quickchart {\n",
              "    background-color: var(--bg-color);\n",
              "    border: none;\n",
              "    border-radius: 50%;\n",
              "    cursor: pointer;\n",
              "    display: none;\n",
              "    fill: var(--fill-color);\n",
              "    height: 32px;\n",
              "    padding: 0;\n",
              "    width: 32px;\n",
              "  }\n",
              "\n",
              "  .colab-df-quickchart:hover {\n",
              "    background-color: var(--hover-bg-color);\n",
              "    box-shadow: 0 1px 2px rgba(60, 64, 67, 0.3), 0 1px 3px 1px rgba(60, 64, 67, 0.15);\n",
              "    fill: var(--button-hover-fill-color);\n",
              "  }\n",
              "\n",
              "  .colab-df-quickchart-complete:disabled,\n",
              "  .colab-df-quickchart-complete:disabled:hover {\n",
              "    background-color: var(--disabled-bg-color);\n",
              "    fill: var(--disabled-fill-color);\n",
              "    box-shadow: none;\n",
              "  }\n",
              "\n",
              "  .colab-df-spinner {\n",
              "    border: 2px solid var(--fill-color);\n",
              "    border-color: transparent;\n",
              "    border-bottom-color: var(--fill-color);\n",
              "    animation:\n",
              "      spin 1s steps(1) infinite;\n",
              "  }\n",
              "\n",
              "  @keyframes spin {\n",
              "    0% {\n",
              "      border-color: transparent;\n",
              "      border-bottom-color: var(--fill-color);\n",
              "      border-left-color: var(--fill-color);\n",
              "    }\n",
              "    20% {\n",
              "      border-color: transparent;\n",
              "      border-left-color: var(--fill-color);\n",
              "      border-top-color: var(--fill-color);\n",
              "    }\n",
              "    30% {\n",
              "      border-color: transparent;\n",
              "      border-left-color: var(--fill-color);\n",
              "      border-top-color: var(--fill-color);\n",
              "      border-right-color: var(--fill-color);\n",
              "    }\n",
              "    40% {\n",
              "      border-color: transparent;\n",
              "      border-right-color: var(--fill-color);\n",
              "      border-top-color: var(--fill-color);\n",
              "    }\n",
              "    60% {\n",
              "      border-color: transparent;\n",
              "      border-right-color: var(--fill-color);\n",
              "    }\n",
              "    80% {\n",
              "      border-color: transparent;\n",
              "      border-right-color: var(--fill-color);\n",
              "      border-bottom-color: var(--fill-color);\n",
              "    }\n",
              "    90% {\n",
              "      border-color: transparent;\n",
              "      border-bottom-color: var(--fill-color);\n",
              "    }\n",
              "  }\n",
              "</style>\n",
              "\n",
              "  <script>\n",
              "    async function quickchart(key) {\n",
              "      const quickchartButtonEl =\n",
              "        document.querySelector('#' + key + ' button');\n",
              "      quickchartButtonEl.disabled = true;  // To prevent multiple clicks.\n",
              "      quickchartButtonEl.classList.add('colab-df-spinner');\n",
              "      try {\n",
              "        const charts = await google.colab.kernel.invokeFunction(\n",
              "            'suggestCharts', [key], {});\n",
              "      } catch (error) {\n",
              "        console.error('Error during call to suggestCharts:', error);\n",
              "      }\n",
              "      quickchartButtonEl.classList.remove('colab-df-spinner');\n",
              "      quickchartButtonEl.classList.add('colab-df-quickchart-complete');\n",
              "    }\n",
              "    (() => {\n",
              "      let quickchartButtonEl =\n",
              "        document.querySelector('#df-e9bf1aea-5058-4704-8516-5b1962e08588 button');\n",
              "      quickchartButtonEl.style.display =\n",
              "        google.colab.kernel.accessAllowed ? 'block' : 'none';\n",
              "    })();\n",
              "  </script>\n",
              "</div>\n",
              "\n",
              "    </div>\n",
              "  </div>\n"
            ],
            "application/vnd.google.colaboratory.intrinsic+json": {
              "type": "dataframe",
              "variable_name": "df",
              "summary": "{\n  \"name\": \"df\",\n  \"rows\": 10000,\n  \"fields\": [\n    {\n      \"column\": \"Review\",\n      \"properties\": {\n        \"dtype\": \"string\",\n        \"num_unique_values\": 7736,\n        \"samples\": [\n          \"satisfied\",\n          \"..amazing..\",\n          \"It's a Great game. i gained a lot of skins.\"\n        ],\n        \"semantic_type\": \"\",\n        \"description\": \"\"\n      }\n    }\n  ]\n}"
            }
          },
          "metadata": {},
          "execution_count": 4
        }
      ]
    },
    {
      "cell_type": "code",
      "source": [
        "# Hitung dan hapus review yang duplikat\n",
        "df.duplicated().sum()  # Cek jumlah duplikat\n",
        "df = df.drop_duplicates()  # Hapus duplikat"
      ],
      "metadata": {
        "id": "YhJLSNl9ZXKX"
      },
      "execution_count": null,
      "outputs": []
    },
    {
      "cell_type": "code",
      "source": [
        "# Tampilkan informasi umum tentang dataset setelah penghapusan duplikat\n",
        "df.info()"
      ],
      "metadata": {
        "colab": {
          "base_uri": "https://localhost:8080/"
        },
        "id": "owcY4ZLWZYLX",
        "outputId": "191ff5e5-46ed-4563-efe3-5b2f137b5832"
      },
      "execution_count": null,
      "outputs": [
        {
          "output_type": "stream",
          "name": "stdout",
          "text": [
            "<class 'pandas.core.frame.DataFrame'>\n",
            "Index: 7737 entries, 0 to 9999\n",
            "Data columns (total 1 columns):\n",
            " #   Column  Non-Null Count  Dtype \n",
            "---  ------  --------------  ----- \n",
            " 0   Review  7736 non-null   object\n",
            "dtypes: object(1)\n",
            "memory usage: 120.9+ KB\n"
          ]
        }
      ]
    },
    {
      "cell_type": "markdown",
      "source": [
        "## Data Cleaning"
      ],
      "metadata": {
        "id": "fXvUfLb0ZZk4"
      }
    },
    {
      "cell_type": "markdown",
      "source": [
        "Kode ini menyiapkan alat untuk lemmatization dan mengumpulkan stopwords dalam bahsa inggris untuk digunakan dalam pemrosesan teks selanjutnya.\n",
        "1. `lemmatizer = WordNetLemmatizer()`\n",
        "- Membuat objek **lemmatizer** dari kelas WordNetLemmatizer, yangdigunakan untuk mereduksi kata - kata ke bentuk dasar mereka.\n",
        "2. `stop_words = set(stopwords.words('english'))`\n",
        "- Mengambil daftar **stopwords** dalam bahasa inggris dari NLTK dan mengubahnya menjadi set untuk meningkatkan efisiensi pencarian dan pengecekan, yang akan digunakan untuk menghapus kata - kat aumum dari teks saat analisis."
      ],
      "metadata": {
        "id": "rWEDEm_ViXvj"
      }
    },
    {
      "cell_type": "code",
      "source": [
        "# Inisialisasi lemmatizer dan stopwords\n",
        "lemmatizer = WordNetLemmatizer()\n",
        "stop_words = set(stopwords.words('english'))"
      ],
      "metadata": {
        "id": "uVnYZkmSZY4w"
      },
      "execution_count": null,
      "outputs": []
    },
    {
      "cell_type": "markdown",
      "source": [
        "Fungsi ini membersihkan teks dengan menghapus karakter yang tidak perlu, mengubah menjadi kecil, menghapus stopwords, dan mereduksi kata -kata ke bentuk dasarnya, sehingga siap untuk analisis lebih lanjut.\n",
        "1. `if not isinstance(text, str): text = str(text)`\n",
        "- Memeriksa apakah texs adalah tipe string. jika tidak, mengonversinya menjadi string.\n",
        "2. `text = re.sub(r'[^\\x00-\\x7F]+', ' ', text)`\n",
        "- Menghapus karakter non-ASCII, seperti emotikon dan simbol, dari teks.\n",
        "3. `text = text.lower()`\n",
        "- Mengubah semua huruf dalam teks menjadi huruf kecil untuk konsistensi.\n",
        "4. `text = re.sub(r'[^\\w\\s]', '', text)`\n",
        "- Menghapus tanda baca dan karakter non-alphanumeric lainnya, termasuk simbol.\n",
        "5. `text = re.sub(r'\\d+', '', text)`\n",
        "- menghapus semua angka dari teks.\n",
        "6. `text = ' '.join(word for word in text.split() if word not in stop_words)`\n",
        "- Menghapus kata - kata umum (stopwords) dari teks dengan memfilter kata yang ada.\n",
        "7. `text = ' '.join(lemmatizer.lemmatize(word) for word in text.split())`\n",
        "- Melakukan lemmatization pada setiap kata yang tersisa, mengubah kata ke bentuk dasarnya.\n",
        "8. `return text`\n",
        "- Mengembalikan teks yang telah dibersihkan.\n"
      ],
      "metadata": {
        "id": "YnPm7a6ki8vb"
      }
    },
    {
      "cell_type": "code",
      "source": [
        "# Fungsi untuk membersihkan teks\n",
        "def clean_text(text):\n",
        "    # Handle non-string values\n",
        "    if not isinstance(text, str):\n",
        "        text = str(text)  # Convert to string if not already\n",
        "\n",
        "    text = re.sub(r'[^\\x00-\\x7F]+', ' ', text)  # Menghapus emotikon dan simbol\n",
        "    text = text.lower()  # Mengubah teks ke huruf kecil\n",
        "    text = re.sub(r'[^\\w\\s]', '', text)  # Menghapus tanda baca dan angka\n",
        "    text = re.sub(r'\\d+', '', text)  # Menghapus angka\n",
        "    text = ' '.join(word for word in text.split() if word not in stop_words)  # Menghapus stopwords\n",
        "    text = ' '.join(lemmatizer.lemmatize(word) for word in text.split())  # Lemmatization\n",
        "    return text"
      ],
      "metadata": {
        "id": "zI_cxdvHZb13"
      },
      "execution_count": null,
      "outputs": []
    },
    {
      "cell_type": "code",
      "source": [
        "# Terapkan fungsi clean_text pada kolom 'Review' dan simpan hasilnya di kolom baru 'Cleaned_Review'\n",
        "df['Cleaned_Review'] = df['Review'].apply(clean_text)"
      ],
      "metadata": {
        "id": "oUn_sy0xZc6X"
      },
      "execution_count": null,
      "outputs": []
    },
    {
      "cell_type": "markdown",
      "source": [
        "## Sentiment Analyst"
      ],
      "metadata": {
        "id": "toqN42n2ZeQp"
      }
    },
    {
      "cell_type": "markdown",
      "source": [
        "Kode ini mempersipkan alat untuk melakukan analisis sentimen pada teks, memungkinkan pengukuran emosi secara otomatis.\n",
        "1. `analyzer = SentimentIntensityAnalyzer()`\n",
        "- Membuat objek **sentimentIntensityAnalyzer** dari pustaka NLTK, yang digunakan untuk menganalisis sentimen teks. Objek ini dapat memberikan skor sentimen yang mencakup nilai positif, negatif, dan netral. yang membantu dalam menilai emosi yang terkandung dalam teks."
      ],
      "metadata": {
        "id": "btiBDcYCkk5i"
      }
    },
    {
      "cell_type": "code",
      "source": [
        "# Inisialisasi analyzer VADER\n",
        "analyzer = SentimentIntensityAnalyzer()"
      ],
      "metadata": {
        "id": "I-UhSfaNZd0v"
      },
      "execution_count": null,
      "outputs": []
    },
    {
      "cell_type": "markdown",
      "source": [
        "Fungsi mengklasifikasi sentimen ulasan sebagai Positif atau Negative berdasar analisis skor yang dihitung oleh VADER.\n",
        "1. `score = analyzer.polarity_scores(review)`\n",
        "- Menghitung skor sentimen untuk ulasan yang diberikan menggunakan objek analyzer, menghasilkan dictionary yang berisi skor **positif** dan **negatif**.\n",
        "2. `if score['compound'] >= 0.0:`\n",
        "- Memeriksa nilai skor komposit. Jika nilainya sama dengan atau lebih besar dari 0.0, ulasan dianggap sebagai **Positive**.\n",
        "3. `return 'Positive'`\n",
        "- Mengembalikan string '**Positive**' Jika skor komposit memenuhi kriteria.\n",
        "4. `else:`\n",
        "- Jika skor komposit dibawah 0.0, maka ulasan dianggap sebagai **Negative**.\n",
        "5. `return 'Negative'`\n",
        "- Mengembalikan string '**Negative**' jika skor komposit tidak memenuhi kriteria untuk **positif**.\n"
      ],
      "metadata": {
        "id": "5gcw_3HVlIH8"
      }
    },
    {
      "cell_type": "code",
      "source": [
        "# Fungsi untuk mengklasifikasikan sentimen berdasarkan skor VADER (hanya Positive dan Negative)\n",
        "def kelas_sentimen(review):\n",
        "    score = analyzer.polarity_scores(review)\n",
        "    if score['compound'] >= 0.0:  # Anggap semua nilai di atas atau sama dengan 0.0 sebagai Positive\n",
        "        return 'Positive'\n",
        "    else:  # Anggap semua nilai di bawah 0.0 sebagai Negative\n",
        "        return 'Negative'"
      ],
      "metadata": {
        "id": "p4GHiBbHZh1_"
      },
      "execution_count": null,
      "outputs": []
    },
    {
      "cell_type": "code",
      "source": [
        "# Terapkan fungsi klasifikasi sentimen pada kolom 'Cleaned_Review'\n",
        "df['Sentiment'] = df['Cleaned_Review'].apply(kelas_sentimen)"
      ],
      "metadata": {
        "id": "TCtyH50IZkqA"
      },
      "execution_count": null,
      "outputs": []
    },
    {
      "cell_type": "code",
      "source": [
        "# Simpan hasil sentiment analysis ke dalam file CSV\n",
        "df.to_csv('review_sentiment.csv', index=False, encoding='utf-8')"
      ],
      "metadata": {
        "id": "3kS0bh3EZm6a"
      },
      "execution_count": null,
      "outputs": []
    },
    {
      "cell_type": "markdown",
      "source": [
        "## Prepare Data For Model"
      ],
      "metadata": {
        "id": "jzAFrGTsZn7w"
      }
    },
    {
      "cell_type": "code",
      "source": [
        "# Load kembali data yang telah diklasifikasikan\n",
        "df = pd.read_csv('review_sentiment.csv')"
      ],
      "metadata": {
        "id": "QSJ6Q1g1ZpkH"
      },
      "execution_count": null,
      "outputs": []
    },
    {
      "cell_type": "code",
      "source": [
        "# Tampilkan 5 baris pertama untuk memastikan data telah dimuat dengan benar\n",
        "df.head()"
      ],
      "metadata": {
        "colab": {
          "base_uri": "https://localhost:8080/",
          "height": 206
        },
        "id": "8pjATCTqZr8Y",
        "outputId": "16f5e6f4-a1bc-4d86-b9f6-eb81040ed8ff"
      },
      "execution_count": null,
      "outputs": [
        {
          "output_type": "execute_result",
          "data": {
            "text/plain": [
              "                                              Review  \\\n",
              "0                 Game asu, perbaiki match makingnya   \n",
              "1  Hey Tencent you better hear me out I found man...   \n",
              "2                                         Much worse   \n",
              "3  Don't play this game. This game are suck with ...   \n",
              "4                                          You suck.   \n",
              "\n",
              "                                      Cleaned_Review Sentiment  \n",
              "0                  game asu perbaiki match makingnya  Positive  \n",
              "1  hey tencent better hear found many player inte...  Positive  \n",
              "2                                         much worse  Negative  \n",
              "3         dont play game game suck fckng bot bye duh  Negative  \n",
              "4                                               suck  Negative  "
            ],
            "text/html": [
              "\n",
              "  <div id=\"df-dd962a3b-082b-46f1-ab3a-a59ffbed68a9\" class=\"colab-df-container\">\n",
              "    <div>\n",
              "<style scoped>\n",
              "    .dataframe tbody tr th:only-of-type {\n",
              "        vertical-align: middle;\n",
              "    }\n",
              "\n",
              "    .dataframe tbody tr th {\n",
              "        vertical-align: top;\n",
              "    }\n",
              "\n",
              "    .dataframe thead th {\n",
              "        text-align: right;\n",
              "    }\n",
              "</style>\n",
              "<table border=\"1\" class=\"dataframe\">\n",
              "  <thead>\n",
              "    <tr style=\"text-align: right;\">\n",
              "      <th></th>\n",
              "      <th>Review</th>\n",
              "      <th>Cleaned_Review</th>\n",
              "      <th>Sentiment</th>\n",
              "    </tr>\n",
              "  </thead>\n",
              "  <tbody>\n",
              "    <tr>\n",
              "      <th>0</th>\n",
              "      <td>Game asu, perbaiki match makingnya</td>\n",
              "      <td>game asu perbaiki match makingnya</td>\n",
              "      <td>Positive</td>\n",
              "    </tr>\n",
              "    <tr>\n",
              "      <th>1</th>\n",
              "      <td>Hey Tencent you better hear me out I found man...</td>\n",
              "      <td>hey tencent better hear found many player inte...</td>\n",
              "      <td>Positive</td>\n",
              "    </tr>\n",
              "    <tr>\n",
              "      <th>2</th>\n",
              "      <td>Much worse</td>\n",
              "      <td>much worse</td>\n",
              "      <td>Negative</td>\n",
              "    </tr>\n",
              "    <tr>\n",
              "      <th>3</th>\n",
              "      <td>Don't play this game. This game are suck with ...</td>\n",
              "      <td>dont play game game suck fckng bot bye duh</td>\n",
              "      <td>Negative</td>\n",
              "    </tr>\n",
              "    <tr>\n",
              "      <th>4</th>\n",
              "      <td>You suck.</td>\n",
              "      <td>suck</td>\n",
              "      <td>Negative</td>\n",
              "    </tr>\n",
              "  </tbody>\n",
              "</table>\n",
              "</div>\n",
              "    <div class=\"colab-df-buttons\">\n",
              "\n",
              "  <div class=\"colab-df-container\">\n",
              "    <button class=\"colab-df-convert\" onclick=\"convertToInteractive('df-dd962a3b-082b-46f1-ab3a-a59ffbed68a9')\"\n",
              "            title=\"Convert this dataframe to an interactive table.\"\n",
              "            style=\"display:none;\">\n",
              "\n",
              "  <svg xmlns=\"http://www.w3.org/2000/svg\" height=\"24px\" viewBox=\"0 -960 960 960\">\n",
              "    <path d=\"M120-120v-720h720v720H120Zm60-500h600v-160H180v160Zm220 220h160v-160H400v160Zm0 220h160v-160H400v160ZM180-400h160v-160H180v160Zm440 0h160v-160H620v160ZM180-180h160v-160H180v160Zm440 0h160v-160H620v160Z\"/>\n",
              "  </svg>\n",
              "    </button>\n",
              "\n",
              "  <style>\n",
              "    .colab-df-container {\n",
              "      display:flex;\n",
              "      gap: 12px;\n",
              "    }\n",
              "\n",
              "    .colab-df-convert {\n",
              "      background-color: #E8F0FE;\n",
              "      border: none;\n",
              "      border-radius: 50%;\n",
              "      cursor: pointer;\n",
              "      display: none;\n",
              "      fill: #1967D2;\n",
              "      height: 32px;\n",
              "      padding: 0 0 0 0;\n",
              "      width: 32px;\n",
              "    }\n",
              "\n",
              "    .colab-df-convert:hover {\n",
              "      background-color: #E2EBFA;\n",
              "      box-shadow: 0px 1px 2px rgba(60, 64, 67, 0.3), 0px 1px 3px 1px rgba(60, 64, 67, 0.15);\n",
              "      fill: #174EA6;\n",
              "    }\n",
              "\n",
              "    .colab-df-buttons div {\n",
              "      margin-bottom: 4px;\n",
              "    }\n",
              "\n",
              "    [theme=dark] .colab-df-convert {\n",
              "      background-color: #3B4455;\n",
              "      fill: #D2E3FC;\n",
              "    }\n",
              "\n",
              "    [theme=dark] .colab-df-convert:hover {\n",
              "      background-color: #434B5C;\n",
              "      box-shadow: 0px 1px 3px 1px rgba(0, 0, 0, 0.15);\n",
              "      filter: drop-shadow(0px 1px 2px rgba(0, 0, 0, 0.3));\n",
              "      fill: #FFFFFF;\n",
              "    }\n",
              "  </style>\n",
              "\n",
              "    <script>\n",
              "      const buttonEl =\n",
              "        document.querySelector('#df-dd962a3b-082b-46f1-ab3a-a59ffbed68a9 button.colab-df-convert');\n",
              "      buttonEl.style.display =\n",
              "        google.colab.kernel.accessAllowed ? 'block' : 'none';\n",
              "\n",
              "      async function convertToInteractive(key) {\n",
              "        const element = document.querySelector('#df-dd962a3b-082b-46f1-ab3a-a59ffbed68a9');\n",
              "        const dataTable =\n",
              "          await google.colab.kernel.invokeFunction('convertToInteractive',\n",
              "                                                    [key], {});\n",
              "        if (!dataTable) return;\n",
              "\n",
              "        const docLinkHtml = 'Like what you see? Visit the ' +\n",
              "          '<a target=\"_blank\" href=https://colab.research.google.com/notebooks/data_table.ipynb>data table notebook</a>'\n",
              "          + ' to learn more about interactive tables.';\n",
              "        element.innerHTML = '';\n",
              "        dataTable['output_type'] = 'display_data';\n",
              "        await google.colab.output.renderOutput(dataTable, element);\n",
              "        const docLink = document.createElement('div');\n",
              "        docLink.innerHTML = docLinkHtml;\n",
              "        element.appendChild(docLink);\n",
              "      }\n",
              "    </script>\n",
              "  </div>\n",
              "\n",
              "\n",
              "<div id=\"df-78fa2c0c-7736-4657-89de-0fe058a01d6c\">\n",
              "  <button class=\"colab-df-quickchart\" onclick=\"quickchart('df-78fa2c0c-7736-4657-89de-0fe058a01d6c')\"\n",
              "            title=\"Suggest charts\"\n",
              "            style=\"display:none;\">\n",
              "\n",
              "<svg xmlns=\"http://www.w3.org/2000/svg\" height=\"24px\"viewBox=\"0 0 24 24\"\n",
              "     width=\"24px\">\n",
              "    <g>\n",
              "        <path d=\"M19 3H5c-1.1 0-2 .9-2 2v14c0 1.1.9 2 2 2h14c1.1 0 2-.9 2-2V5c0-1.1-.9-2-2-2zM9 17H7v-7h2v7zm4 0h-2V7h2v10zm4 0h-2v-4h2v4z\"/>\n",
              "    </g>\n",
              "</svg>\n",
              "  </button>\n",
              "\n",
              "<style>\n",
              "  .colab-df-quickchart {\n",
              "      --bg-color: #E8F0FE;\n",
              "      --fill-color: #1967D2;\n",
              "      --hover-bg-color: #E2EBFA;\n",
              "      --hover-fill-color: #174EA6;\n",
              "      --disabled-fill-color: #AAA;\n",
              "      --disabled-bg-color: #DDD;\n",
              "  }\n",
              "\n",
              "  [theme=dark] .colab-df-quickchart {\n",
              "      --bg-color: #3B4455;\n",
              "      --fill-color: #D2E3FC;\n",
              "      --hover-bg-color: #434B5C;\n",
              "      --hover-fill-color: #FFFFFF;\n",
              "      --disabled-bg-color: #3B4455;\n",
              "      --disabled-fill-color: #666;\n",
              "  }\n",
              "\n",
              "  .colab-df-quickchart {\n",
              "    background-color: var(--bg-color);\n",
              "    border: none;\n",
              "    border-radius: 50%;\n",
              "    cursor: pointer;\n",
              "    display: none;\n",
              "    fill: var(--fill-color);\n",
              "    height: 32px;\n",
              "    padding: 0;\n",
              "    width: 32px;\n",
              "  }\n",
              "\n",
              "  .colab-df-quickchart:hover {\n",
              "    background-color: var(--hover-bg-color);\n",
              "    box-shadow: 0 1px 2px rgba(60, 64, 67, 0.3), 0 1px 3px 1px rgba(60, 64, 67, 0.15);\n",
              "    fill: var(--button-hover-fill-color);\n",
              "  }\n",
              "\n",
              "  .colab-df-quickchart-complete:disabled,\n",
              "  .colab-df-quickchart-complete:disabled:hover {\n",
              "    background-color: var(--disabled-bg-color);\n",
              "    fill: var(--disabled-fill-color);\n",
              "    box-shadow: none;\n",
              "  }\n",
              "\n",
              "  .colab-df-spinner {\n",
              "    border: 2px solid var(--fill-color);\n",
              "    border-color: transparent;\n",
              "    border-bottom-color: var(--fill-color);\n",
              "    animation:\n",
              "      spin 1s steps(1) infinite;\n",
              "  }\n",
              "\n",
              "  @keyframes spin {\n",
              "    0% {\n",
              "      border-color: transparent;\n",
              "      border-bottom-color: var(--fill-color);\n",
              "      border-left-color: var(--fill-color);\n",
              "    }\n",
              "    20% {\n",
              "      border-color: transparent;\n",
              "      border-left-color: var(--fill-color);\n",
              "      border-top-color: var(--fill-color);\n",
              "    }\n",
              "    30% {\n",
              "      border-color: transparent;\n",
              "      border-left-color: var(--fill-color);\n",
              "      border-top-color: var(--fill-color);\n",
              "      border-right-color: var(--fill-color);\n",
              "    }\n",
              "    40% {\n",
              "      border-color: transparent;\n",
              "      border-right-color: var(--fill-color);\n",
              "      border-top-color: var(--fill-color);\n",
              "    }\n",
              "    60% {\n",
              "      border-color: transparent;\n",
              "      border-right-color: var(--fill-color);\n",
              "    }\n",
              "    80% {\n",
              "      border-color: transparent;\n",
              "      border-right-color: var(--fill-color);\n",
              "      border-bottom-color: var(--fill-color);\n",
              "    }\n",
              "    90% {\n",
              "      border-color: transparent;\n",
              "      border-bottom-color: var(--fill-color);\n",
              "    }\n",
              "  }\n",
              "</style>\n",
              "\n",
              "  <script>\n",
              "    async function quickchart(key) {\n",
              "      const quickchartButtonEl =\n",
              "        document.querySelector('#' + key + ' button');\n",
              "      quickchartButtonEl.disabled = true;  // To prevent multiple clicks.\n",
              "      quickchartButtonEl.classList.add('colab-df-spinner');\n",
              "      try {\n",
              "        const charts = await google.colab.kernel.invokeFunction(\n",
              "            'suggestCharts', [key], {});\n",
              "      } catch (error) {\n",
              "        console.error('Error during call to suggestCharts:', error);\n",
              "      }\n",
              "      quickchartButtonEl.classList.remove('colab-df-spinner');\n",
              "      quickchartButtonEl.classList.add('colab-df-quickchart-complete');\n",
              "    }\n",
              "    (() => {\n",
              "      let quickchartButtonEl =\n",
              "        document.querySelector('#df-78fa2c0c-7736-4657-89de-0fe058a01d6c button');\n",
              "      quickchartButtonEl.style.display =\n",
              "        google.colab.kernel.accessAllowed ? 'block' : 'none';\n",
              "    })();\n",
              "  </script>\n",
              "</div>\n",
              "\n",
              "    </div>\n",
              "  </div>\n"
            ],
            "application/vnd.google.colaboratory.intrinsic+json": {
              "type": "dataframe",
              "variable_name": "df",
              "summary": "{\n  \"name\": \"df\",\n  \"rows\": 7737,\n  \"fields\": [\n    {\n      \"column\": \"Review\",\n      \"properties\": {\n        \"dtype\": \"string\",\n        \"num_unique_values\": 7736,\n        \"samples\": [\n          \"satisfied\",\n          \"..amazing..\",\n          \"It's a Great game. i gained a lot of skins.\"\n        ],\n        \"semantic_type\": \"\",\n        \"description\": \"\"\n      }\n    },\n    {\n      \"column\": \"Cleaned_Review\",\n      \"properties\": {\n        \"dtype\": \"string\",\n        \"num_unique_values\": 6556,\n        \"samples\": [\n          \"love game lot\",\n          \"great graphic interesting hero generous skin garbage matchmaking tier challenge caused grandmaster tier inflated moron barely play game release ban barely balanced hero change done fix matchmaking amount free skin ever enough cover bad matchmaking\",\n          \"easily best moba mobile sound impact character design cool hope there future diverse design culture\"\n        ],\n        \"semantic_type\": \"\",\n        \"description\": \"\"\n      }\n    },\n    {\n      \"column\": \"Sentiment\",\n      \"properties\": {\n        \"dtype\": \"category\",\n        \"num_unique_values\": 2,\n        \"samples\": [\n          \"Negative\",\n          \"Positive\"\n        ],\n        \"semantic_type\": \"\",\n        \"description\": \"\"\n      }\n    }\n  ]\n}"
            }
          },
          "metadata": {},
          "execution_count": 15
        }
      ]
    },
    {
      "cell_type": "code",
      "source": [
        "# Hapus baris dengan nilai NaN di kolom 'Cleaned_Review'\n",
        "df.dropna(subset=['Cleaned_Review'], inplace=True)"
      ],
      "metadata": {
        "id": "n5zhCg5tZtDx"
      },
      "execution_count": null,
      "outputs": []
    },
    {
      "cell_type": "markdown",
      "source": [
        "Kode ini mengonversi label sentimen dalam DataFrame menjadi format numerik, mempersiapkannya untuk digunakan dalam analisis atau model ML.\n",
        "1. `label_encoder = LabelEncoder()`\n",
        "- Membuat objel **LabelEncoder** dari pustaka **scikit-learn**, yang digunakan untuk mengonversi label kategori (dalam hal ini, sentimen) menjadi format numerik.\n",
        "2. `df['Sentiment'] = label_encoder.fit_transform(df['Sentiment'])`\n",
        "- Menggunakan `metode fit_transform` dari objek `label_encoder` untuk mengonver kolom `Sentiment` dalam DataFrame `df` menjadi nilai numerik. Label yang sebelumnya berbentuk string (misalnya, \"Positive\" dan \"Negative\") akan diubah menjadi angka (misal, 0 dan 1)"
      ],
      "metadata": {
        "id": "IlDx5IRbmHXB"
      }
    },
    {
      "cell_type": "code",
      "source": [
        "# Encode label sentimen menjadi angka\n",
        "label_encoder = LabelEncoder()\n",
        "df['Sentiment'] = label_encoder.fit_transform(df['Sentiment'])"
      ],
      "metadata": {
        "id": "9zFyQp2aZtyH"
      },
      "execution_count": null,
      "outputs": []
    },
    {
      "cell_type": "markdown",
      "source": [
        "Kode ini membagi dataset menjadi data pelatihan (80%) dan data pengujian (20%) untuk analisis sentimen, memungkikan model untuk dilatih dan diuji secara terpisah.\n",
        "1. `X_train, X_test, y_train, y_test = train_test_split(...)`\n",
        "- Memanggil fungsi `train_test_split` dari pustaka scikit_learn untuk membagi dataset menjadi set pelatihan dan set pengujian.\n",
        "2. `df['Cleaned_Review']`\n",
        "- Menyediakan kolom `Cleaned_Review` dari DataFrame `df` sebagai data fitur (X) yang akan digunakan untuk pelatihan dan pengujian model.\n",
        "3. `df['Sentiment']`\n",
        "- Menyediakan kolom `Sentiment` sebagai label target (y) yang ingin diprediksi.\n",
        "4. `test_size=0.2`\n",
        "- Menentukan bahwa 20% dari data akan digunakan sebagai set pengujian, sementara 80% sisanya digunakan sebagai set pelatihan.\n",
        "5. `random_state=42`\n",
        "- Mengatur nilai seed untuk memastikan pembagian data yang konsisten setiap kali kode dijalankan."
      ],
      "metadata": {
        "id": "bHPzJzPkm_E7"
      }
    },
    {
      "cell_type": "code",
      "source": [
        "# Split dataset menjadi data latih dan data uji\n",
        "X_train, X_test, y_train, y_test = train_test_split(df['Cleaned_Review'], df['Sentiment'], test_size=0.2, random_state=42)"
      ],
      "metadata": {
        "id": "gcCybWQqZu5f"
      },
      "execution_count": null,
      "outputs": []
    },
    {
      "cell_type": "markdown",
      "source": [
        "## Tokenization and Padding"
      ],
      "metadata": {
        "id": "sT_8TepRZv3H"
      }
    },
    {
      "cell_type": "markdown",
      "source": [
        "Kode ini menyiapkan Tokenizer untuk memproses data teks dengan membatasi jumlah kata yang digunakan dan mempelajari frekuensi kata dari data pelatihan.\n",
        "1. `tokenizer = Tokenizer(num_words=5000)`\n",
        "- Membuat objek Tokenizer dari keras dengan parameter `num_words=5000`, yang berarti hanya 5.000 kata paling umum dari dataset yang akan di pertimbangkan dlam pemrosesan teks.\n",
        "2. `tokenizer.fit_on_texts(X_train)`\n",
        "- Menggunakan metode `fit_on_texts` untuk mempelajari dan menghitung frekuensi kata dari data teks dalam `X_train`. Tokenizer akan membuat kamus kata yang akan digunakan untukmengonversi teks menjadi urutan angka berdasarkan frekuensi kemunculan kata."
      ],
      "metadata": {
        "id": "SGD1aCAln_Xy"
      }
    },
    {
      "cell_type": "code",
      "source": [
        "# Tokenisasi teks\n",
        "tokenizer = Tokenizer(num_words=5000)\n",
        "tokenizer.fit_on_texts(X_train)"
      ],
      "metadata": {
        "id": "QImysGewZz0P"
      },
      "execution_count": null,
      "outputs": []
    },
    {
      "cell_type": "markdown",
      "source": [
        "Kode ini mengubah data teks menjadi urutan angka, memungkikan model ML untuk memproses dan menganalisis teks dengan cara yang dapat dimengerti oleh algoritma.\n",
        "1.\n",
        "`X_train_seq = tokenizer.texts_to_sequences(X_train)`\n",
        "- Menggunakan metode `texts_to_sequence` dari objek `tokenizer` untuk mengonversi setiap teks dalam `X_train` menjadi urutan angka berdasarkan kamus kata yang telah dibuat sebelumnya. Setiap kata dalam teks akan digantikan dengan indeks numeriknya.\n",
        "2. `X_test_seq = tokenizer.texts_to_sequences(X_test)`\n",
        "- Melakukan hal yang sama seperti pada langkah sebelumnya, tapi untk data `X_test`, mengonversi teks dalam `X_test` menjadi urutan angka."
      ],
      "metadata": {
        "id": "Gvns_YZhoiWX"
      }
    },
    {
      "cell_type": "code",
      "source": [
        "# Konversi teks menjadi sequences\n",
        "X_train_seq = tokenizer.texts_to_sequences(X_train)\n",
        "X_test_seq = tokenizer.texts_to_sequences(X_test)"
      ],
      "metadata": {
        "id": "CfpKS_Z2Z1iX"
      },
      "execution_count": null,
      "outputs": []
    },
    {
      "cell_type": "markdown",
      "source": [
        "Kode ini menstandardisasi panjang urutan teks menjadi 100, sehingga memudhakan pemrosesan dalam model ML dan memastikan bahwa semua input memiliki dimensi yang konsisten.\n",
        "1. `max_length = 100`\n",
        "- Menentukan panjang maksimum untuk urutan teks. Dalam hal ini, setiap urutan akan di pangkas atau diisi (padding) agar memiliki panjang 100.\n",
        "2. `X_train_pad = pad_sequences(X_train_seq, maxlen=max_length)`\n",
        "- Menggunakan fungsi `pad_sequence` dari keras untuk menyesuaikan semua urutan dalam `X_train_seq` menjadi panjang maksimum yang ditentukan (100). jika urutan kurang dari 100, akan ditambahkan padding (biasanya dengan angka 0) diawal. Jika lebih dari 100, urutan akan dipangkas.\n",
        "3. `X_test_pad = pad_sequences(X_test_seq, maxlen=max_length)`\n",
        "- Melakukan hal yang sama pada urutan dalam `X_test_seq` untuk memastikan bahwa data pengujian juga memiliki panjang yang sama.\n"
      ],
      "metadata": {
        "id": "hTeLy9SHpKwp"
      }
    },
    {
      "cell_type": "code",
      "source": [
        "# Padding sequences agar memiliki panjang yang sama\n",
        "max_length = 100\n",
        "X_train_pad = pad_sequences(X_train_seq, maxlen=max_length)\n",
        "X_test_pad = pad_sequences(X_test_seq, maxlen=max_length)"
      ],
      "metadata": {
        "id": "kM6KvKSNZ2YG"
      },
      "execution_count": null,
      "outputs": []
    },
    {
      "cell_type": "markdown",
      "source": [
        "## Build and Train Model"
      ],
      "metadata": {
        "id": "20SHHs5pZ3qI"
      }
    },
    {
      "cell_type": "markdown",
      "source": [
        "Kode ini mendefinisikan model CNN untuk analisis sentimen, menggabungkan lapisan embedding, konvolusi, pooling, dan fully connected untuk mengklasifikasi teks menjadi dua kelas.\n",
        "1. `model = Sequential()`\n",
        "- Membuat objek Sequential untuk membangun model secara bertahap dengan menambahkan lapisan - lapisan.\n",
        "2. `model.add(Embedding(input_dim=5000, output_dim=64, input_length=max_length))`\n",
        "- Menambahkan lapisan Embedding, yang mengonversi kata - kata menjadi vektor berdimensi 64. input_dim=5000 menunjukkan bahwa hanya 5.000 kata yang akan digunakan, dan input_length=max_length memastikan bahwa semua input memiliki panjang yang sama.\n",
        "3. `model.add(Conv1D(filters=128, kernel_size=5, activation='relu'))`\n",
        "- Menambahkan lapisan Convolutional 1D dengan 128 filter dan ukuran kernel 5. Fungsi aktivasi ReLU digunakan untuk menambahkan non-linearitas ke model.\n",
        "4. `model.add(MaxPooling1D(pool_size=2))`\n",
        "- Menambahkan lapisan Max Pooling 1D untuk mengurangi dimensi output dari lapisan konvolusi, dengan ukuran 2.\n",
        "5. `model.add(Conv1D(filters=128, kernel_size=5, activation='relu'))`\n",
        "- Menambahkan lapisan konvolusi 1D lagi dengan 128 filter dan ukuran kernel 5 untuk menangkap fitur tambahan.\n",
        "6. `model.add(MaxPooling1D(pool_size=2))`\n",
        "- Menambahkan lapisan pooling lagi untuk mengurangi dimensi lebih lanjut\n",
        "7. `model.add(GlobalMaxPooling1D())`\n",
        "- Menambahkan lapisan Global Max Pooling 1D, yang mengambil nilai maksimum dari setiap fitur, mengurangi dimensi output menjadi lebih sederhana.\n",
        "8. `model.add(Dropout(0.5))`\n",
        "- Menambahkan lapisan Dropout dengan tingkat dropout 50% untuk mencegah overfitting dengan secara acak menonaktifkan 50% neuron saat pelatihan.\n",
        "9. `model.add(Dense(2, activation='softmax'))`\n",
        "- Menambahkan lapisan Dense dengan 2 neuron (untuk dua kelas: Positive dan Negative) dan fungsi aktivasi softmax untuk menghasilkan distribusi probabilitas dari kelas yang diprediksi."
      ],
      "metadata": {
        "id": "lMAtOKgDqT_2"
      }
    },
    {
      "cell_type": "code",
      "source": [
        "# Membuat model CNN\n",
        "model = Sequential()\n",
        "model.add(Embedding(input_dim=5000, output_dim=64, input_length=max_length))\n",
        "model.add(Conv1D(filters=128, kernel_size=5, activation='relu'))\n",
        "model.add(MaxPooling1D(pool_size=2))\n",
        "model.add(Conv1D(filters=128, kernel_size=5, activation='relu'))\n",
        "model.add(MaxPooling1D(pool_size=2))\n",
        "model.add(GlobalMaxPooling1D())\n",
        "model.add(Dropout(0.5))\n",
        "model.add(Dense(2, activation='softmax'))"
      ],
      "metadata": {
        "colab": {
          "base_uri": "https://localhost:8080/"
        },
        "id": "43w5O6cmZ5fn",
        "outputId": "f65da0bc-852f-49cc-d14c-1dcd91885c4d"
      },
      "execution_count": null,
      "outputs": [
        {
          "output_type": "stream",
          "name": "stderr",
          "text": [
            "/usr/local/lib/python3.10/dist-packages/keras/src/layers/core/embedding.py:90: UserWarning: Argument `input_length` is deprecated. Just remove it.\n",
            "  warnings.warn(\n"
          ]
        }
      ]
    },
    {
      "cell_type": "markdown",
      "source": [
        "Kode ini mengkonfigurasi model dengan fuangsi kerugian, optimasi, dan metrik yang sesuai untuk pelatihan, mempersiapkan model untuk proses belajar dari data.\n",
        "1. `model.compile(...)`\n",
        "- Menyiapkan model untuk pelatihan.\n",
        "2. `loss='sparse_categorical_crossentropy'`\n",
        "- Menentukan fungsi kerugian yang digunakan untuk mengukur seberapa baik model dalam memprediksi kelas yang benar. sparse_categorical_crossentropy digunakan ketika label target berupa integer (misalnya, 0 untuk \"Negative\" dan 1 untuk \"Positive\")\n",
        "3. `optimizer='adam'`\n",
        "- Menggunakan algoritma optimasi Adam, yang merupakan metode adaptif untuk pembaruan bobot yang efektif dalam banyak kasus.\n",
        "4. `metrics=['accuracy']`\n",
        "- Menentukan metrik yang akan dipantau selama pelatihan dan pengujian model. Dalam hal ini, model akan memantau akurasi sebagai ukuran kinerja."
      ],
      "metadata": {
        "id": "NjMCk5IQrnu1"
      }
    },
    {
      "cell_type": "code",
      "source": [
        "# Compile model dengan loss dan optimizer yang sesuai\n",
        "model.compile(loss='sparse_categorical_crossentropy', optimizer='adam', metrics=['accuracy'])"
      ],
      "metadata": {
        "id": "kkzmxFWuZ7WY"
      },
      "execution_count": null,
      "outputs": []
    },
    {
      "cell_type": "markdown",
      "source": [
        "Kode ini menyiapkan Callback Early Stopping untuk mencegah perlatihan yang tidak perlu jika model tidak menunjukan perbaikan dalam kinerja, sekaligus memastikan bahwa bobot terbaik disimpan.\n",
        "1. `early_stopping = EarlyStopping(...)`\n",
        "- Membuat objek EarlyStopping dari Keras, yang digunakan untuk mengehentikan model lebih awal jika tidak ada perbaikan yang signifikan dalam fungsi loss pada data validasi.\n",
        "2. `monitor='val_loss'`\n",
        "- Menentukan bahwa pelatihan akan dipantau berdasarkan nilai fungsi loss pada data validasi (`val_loss`).\n",
        "3. `patience=3`\n",
        "- Mengatur jumlah epoch yang akan dilalui tanpa perbaikan sebelum pelatihan dihentikan. Dalam hal ini, jika `val_loss` tidakmembaik selama 3 epoch berturut - turut, pelatihan akan dihentikan.\n",
        "4. `restore_best_weights=True`\n",
        "- Menentukan bahwa bobot model terbaik (yang miliki `val_loss` terendah) akan dipulihkan setelah penghentian awal, sehinggga model yang dilatih adalah versi terbaiknya."
      ],
      "metadata": {
        "id": "ITkd3f-wscLG"
      }
    },
    {
      "cell_type": "code",
      "source": [
        "# Early stopping callback untuk menghentikan pelatihan jika tidak ada peningkatan pada val_loss\n",
        "early_stopping = EarlyStopping(monitor='val_loss', patience=3, restore_best_weights=True)"
      ],
      "metadata": {
        "id": "kb_4lN6pZ8NG"
      },
      "execution_count": null,
      "outputs": []
    },
    {
      "cell_type": "markdown",
      "source": [
        "Kode ini melatih model dengan data yang telah di siapkan selam 10 epoch, menggunakan batch size 32, dan memantau kinerja mode pada data validasi dengan callback early stopping untuk efisiensi pelatihan.\n",
        "1. `history = model.fit(...)`\n",
        "- Memulai proses pelatihan menggunakan data pelatihan yang telah disiapkan.\n",
        "2. `X_train_pad`\n",
        "- Data fitur yang telah diproses (dalam bentuk urutan yang telah diisi) untuk pelatihan.\n",
        "3. `y_train`\n",
        "- label target (sentimen) yang sesuai dengan data fitur untuk pelatihan.\n",
        "4. `epochs=10`\n",
        "- Menentukan jumlah total iterasi pelatihan model di atas seluruh dataset. Dalam hal ini model akan di latih selama 10 epoch.\n",
        "5. `batch_size=32`\n",
        "- Mengatur ukuran batch, model akan diperbarui setelah setiap 32 contoh data.\n",
        "6. `validation_split=0.1`\n",
        "- Mengalokasikan 10% dari data pelatihan untuk digunakan sebagai validasi selama pelatihan, untuk memantau kinerja model pada data yang tidak terlihat.\n",
        "7. `callbacks=[early_stopping]`\n",
        "- Menyertakan callback early_stopping, yang akan menghentikan pelatihan lebih awal jika tidak ada perbaikan dalam fungsi loss pada data validasi."
      ],
      "metadata": {
        "id": "5dNp3SbDtZPN"
      }
    },
    {
      "cell_type": "code",
      "source": [
        "# Train the model\n",
        "history = model.fit(X_train_pad, y_train,\n",
        "                            epochs=10,\n",
        "                            batch_size=32,\n",
        "                            validation_split=0.1,\n",
        "                            callbacks=[early_stopping])"
      ],
      "metadata": {
        "colab": {
          "base_uri": "https://localhost:8080/"
        },
        "id": "KsTU22xmZ-Bn",
        "outputId": "e8b821aa-0142-4c01-9654-584a0e1c0e36"
      },
      "execution_count": null,
      "outputs": [
        {
          "output_type": "stream",
          "name": "stdout",
          "text": [
            "Epoch 1/10\n",
            "\u001b[1m170/170\u001b[0m \u001b[32m━━━━━━━━━━━━━━━━━━━━\u001b[0m\u001b[37m\u001b[0m \u001b[1m10s\u001b[0m 28ms/step - accuracy: 0.7903 - loss: 0.4872 - val_accuracy: 0.8709 - val_loss: 0.3207\n",
            "Epoch 2/10\n",
            "\u001b[1m170/170\u001b[0m \u001b[32m━━━━━━━━━━━━━━━━━━━━\u001b[0m\u001b[37m\u001b[0m \u001b[1m1s\u001b[0m 4ms/step - accuracy: 0.9156 - loss: 0.2221 - val_accuracy: 0.8957 - val_loss: 0.2557\n",
            "Epoch 3/10\n",
            "\u001b[1m170/170\u001b[0m \u001b[32m━━━━━━━━━━━━━━━━━━━━\u001b[0m\u001b[37m\u001b[0m \u001b[1m1s\u001b[0m 4ms/step - accuracy: 0.9700 - loss: 0.0984 - val_accuracy: 0.9089 - val_loss: 0.2695\n",
            "Epoch 4/10\n",
            "\u001b[1m170/170\u001b[0m \u001b[32m━━━━━━━━━━━━━━━━━━━━\u001b[0m\u001b[37m\u001b[0m \u001b[1m1s\u001b[0m 3ms/step - accuracy: 0.9802 - loss: 0.0630 - val_accuracy: 0.8891 - val_loss: 0.3420\n",
            "Epoch 5/10\n",
            "\u001b[1m170/170\u001b[0m \u001b[32m━━━━━━━━━━━━━━━━━━━━\u001b[0m\u001b[37m\u001b[0m \u001b[1m1s\u001b[0m 3ms/step - accuracy: 0.9910 - loss: 0.0331 - val_accuracy: 0.8907 - val_loss: 0.4090\n"
          ]
        }
      ]
    },
    {
      "cell_type": "markdown",
      "source": [
        "## Test Model"
      ],
      "metadata": {
        "id": "IHKLGsXiZ_rP"
      }
    },
    {
      "cell_type": "markdown",
      "source": [
        "Kode ini melakukan prediksi sentiment untuk teks ulasan yang diberikan, mengonversinya menjadi format yang dapat diproses oleh model, dan mengembalikan hasil sentimen dalam bentuk label asli.\n",
        "1. `seq = tokenizer.texts_to_sequences([review])`\n",
        "- Mengonvesi teks ulasan yang diberikan menjadi urutan angka menggunakan tokenizer. ulasan dimasukkan dalam bentuk list agar metode dapat memprosesnya.\n",
        "2. `padded = pad_sequences(seq, maxlen=max_length)`\n",
        "- Menggunakan `pad_sequences` untuk memastikan bahwa urutan angka memiliki panjang yang konsisten dengan `max_length` yang telah ditentukan. ini memungkikan mode untuk meneripa input yang ukuran yang sesuai.\n",
        "3. `pred = model.predict(padded)`\n",
        "- Menggunakan model yang telah dilatih untuk memprediksi sentiment dari urutan yang telah diproses (dalam bentuk padded).\n",
        "4. `sentiment = label_encoder.inverse_transform([np.argmax(pred)])`\n",
        "- Mengambil indeks kelas dengan probabilitas tertinggi dari hasil prediksi menggunakan `np.argmax(pred)` dan mengonversinya kembali ke label asli (misalnya, \"positive\" atau \"negative\") menggunakan `label_encoder`.\n",
        "5. `return sentiment[0]`\n",
        "- Mengembalikan label sentiment yang telah di prediksi menjadi output fungsi."
      ],
      "metadata": {
        "id": "vunJ15-Mufwj"
      }
    },
    {
      "cell_type": "code",
      "source": [
        "# Fungsi untuk memprediksi sentimen dari review baru\n",
        "def predict_sentiment(review):\n",
        "    seq = tokenizer.texts_to_sequences([review])\n",
        "    padded = pad_sequences(seq, maxlen=max_length)\n",
        "    pred = model.predict(padded)\n",
        "    sentiment = label_encoder.inverse_transform([np.argmax(pred)])\n",
        "    return sentiment[0]"
      ],
      "metadata": {
        "id": "vtrwonwDaArv"
      },
      "execution_count": null,
      "outputs": []
    },
    {
      "cell_type": "code",
      "source": [
        "# Test dengan kalimat baru\n",
        "new_review = \"I absolutely loved this game! The graphics are stunning, and the gameplay is so engaging. It kept me entertained for hours. Highly recommended!\"\n",
        "print(f'Sentiment: {predict_sentiment(new_review)}')"
      ],
      "metadata": {
        "colab": {
          "base_uri": "https://localhost:8080/"
        },
        "id": "hpS8xljEaBow",
        "outputId": "fff02439-9243-4665-fbde-8dfe29f66c35"
      },
      "execution_count": null,
      "outputs": [
        {
          "output_type": "stream",
          "name": "stdout",
          "text": [
            "\u001b[1m1/1\u001b[0m \u001b[32m━━━━━━━━━━━━━━━━━━━━\u001b[0m\u001b[37m\u001b[0m \u001b[1m0s\u001b[0m 405ms/step\n",
            "Sentiment: Positive\n"
          ]
        }
      ]
    },
    {
      "cell_type": "code",
      "source": [
        "# Test dengan kalimat baru (Negatif)\n",
        "new_review = \"This game is really disappointing. The graphics are poor, and the gameplay is frustrating. It was a waste of time and not enjoyable at all.\"\n",
        "print(f'Sentiment: {predict_sentiment(new_review)}')"
      ],
      "metadata": {
        "id": "9-9F5jVlbVJ-",
        "outputId": "28b90eba-913d-48a4-d9b9-e3fd553597b6",
        "colab": {
          "base_uri": "https://localhost:8080/"
        }
      },
      "execution_count": null,
      "outputs": [
        {
          "output_type": "stream",
          "name": "stdout",
          "text": [
            "\u001b[1m1/1\u001b[0m \u001b[32m━━━━━━━━━━━━━━━━━━━━\u001b[0m\u001b[37m\u001b[0m \u001b[1m0s\u001b[0m 17ms/step\n",
            "Sentiment: Negative\n"
          ]
        }
      ]
    }
  ]
}